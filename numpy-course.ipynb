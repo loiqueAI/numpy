{
 "cells": [
  {
   "cell_type": "code",
   "execution_count": 1,
   "id": "df933a38",
   "metadata": {},
   "outputs": [],
   "source": [
    "import numpy as np"
   ]
  },
  {
   "cell_type": "markdown",
   "id": "cad9ba47",
   "metadata": {},
   "source": [
    "### Create Arrays from Python Lists"
   ]
  },
  {
   "cell_type": "code",
   "execution_count": 2,
   "id": "4983f039",
   "metadata": {},
   "outputs": [
    {
     "data": {
      "text/plain": [
       "array([3, 5, 7, 8])"
      ]
     },
     "execution_count": 2,
     "metadata": {},
     "output_type": "execute_result"
    }
   ],
   "source": [
    "np.array([3,5,7,8])"
   ]
  },
  {
   "cell_type": "markdown",
   "id": "75f97295",
   "metadata": {},
   "source": [
    "### Create array with specifique data type"
   ]
  },
  {
   "cell_type": "code",
   "execution_count": 3,
   "id": "5082b2d2",
   "metadata": {},
   "outputs": [
    {
     "data": {
      "text/plain": [
       "array([3., 5., 7., 8.], dtype=float32)"
      ]
     },
     "execution_count": 3,
     "metadata": {},
     "output_type": "execute_result"
    }
   ],
   "source": [
    "np.array([3,5,7,8],dtype='float32')"
   ]
  },
  {
   "cell_type": "markdown",
   "id": "6b66483d",
   "metadata": {},
   "source": [
    "### Create multi-dimensionnal array using List of lists"
   ]
  },
  {
   "cell_type": "code",
   "execution_count": 4,
   "id": "bb9b2304",
   "metadata": {},
   "outputs": [
    {
     "data": {
      "text/plain": [
       "array([[2, 3, 4],\n",
       "       [4, 5, 6],\n",
       "       [6, 7, 8]])"
      ]
     },
     "execution_count": 4,
     "metadata": {},
     "output_type": "execute_result"
    }
   ],
   "source": [
    "np.array([range(i, i+3) for i in [2,4,6]])"
   ]
  },
  {
   "cell_type": "code",
   "execution_count": 5,
   "id": "a62cf25e",
   "metadata": {},
   "outputs": [
    {
     "name": "stdout",
     "output_type": "stream",
     "text": [
      "1\n",
      "2\n",
      "3\n",
      "4\n",
      "5\n",
      "6\n",
      "7\n",
      "8\n",
      "9\n",
      "10\n",
      "11\n",
      "12\n"
     ]
    }
   ],
   "source": [
    "arr=np.array([[[1,2,3],[4,5,6]],[[7,8,9],[10,11,12]]])\n",
    "for x in arr:\n",
    "    for y in x:\n",
    "        for z in y:\n",
    "            print(z)"
   ]
  },
  {
   "cell_type": "markdown",
   "id": "40e99934",
   "metadata": {},
   "source": [
    "### Create Arrays from scrash"
   ]
  },
  {
   "cell_type": "code",
   "execution_count": 6,
   "id": "1a344a02",
   "metadata": {},
   "outputs": [
    {
     "data": {
      "text/plain": [
       "array([0, 0, 0, 0, 0, 0, 0, 0, 0, 0])"
      ]
     },
     "execution_count": 6,
     "metadata": {},
     "output_type": "execute_result"
    }
   ],
   "source": [
    "#Create a lengh-10 integer array filled with 0\n",
    "np.zeros(10,dtype=int)"
   ]
  },
  {
   "cell_type": "code",
   "execution_count": 7,
   "id": "a68dee33",
   "metadata": {},
   "outputs": [
    {
     "data": {
      "text/plain": [
       "array([[1., 1., 1., 1., 1.],\n",
       "       [1., 1., 1., 1., 1.],\n",
       "       [1., 1., 1., 1., 1.]])"
      ]
     },
     "execution_count": 7,
     "metadata": {},
     "output_type": "execute_result"
    }
   ],
   "source": [
    "#Create a 3*5 floating-point array filled with ones\n",
    "np.ones((3,5),dtype=float)"
   ]
  },
  {
   "cell_type": "code",
   "execution_count": 8,
   "id": "2d045bfe",
   "metadata": {},
   "outputs": [
    {
     "data": {
      "text/plain": [
       "array([[3.14, 3.14, 3.14, 3.14, 3.14],\n",
       "       [3.14, 3.14, 3.14, 3.14, 3.14],\n",
       "       [3.14, 3.14, 3.14, 3.14, 3.14]])"
      ]
     },
     "execution_count": 8,
     "metadata": {},
     "output_type": "execute_result"
    }
   ],
   "source": [
    "#Create a 3*5 array filled with 3.14\n",
    "np.full((3,5),3.14)"
   ]
  },
  {
   "cell_type": "code",
   "execution_count": 9,
   "id": "50a159da",
   "metadata": {},
   "outputs": [
    {
     "data": {
      "text/plain": [
       "array([ 0,  2,  4,  6,  8, 10, 12, 14, 16, 18])"
      ]
     },
     "execution_count": 9,
     "metadata": {},
     "output_type": "execute_result"
    }
   ],
   "source": [
    "#Create am array filled with a linear sequence\n",
    "#Strarting at 0, ending at 20, stepping by 2\n",
    "np.arange(0,20,2)"
   ]
  },
  {
   "cell_type": "code",
   "execution_count": 10,
   "id": "1eb88b73",
   "metadata": {},
   "outputs": [
    {
     "data": {
      "text/plain": [
       "array([0.  , 0.25, 0.5 , 0.75, 1.  ])"
      ]
     },
     "execution_count": 10,
     "metadata": {},
     "output_type": "execute_result"
    }
   ],
   "source": [
    "#Create an array of five values evenly spaced between 0 and 1\n",
    "np.linspace(0,1,5)"
   ]
  },
  {
   "cell_type": "code",
   "execution_count": 11,
   "id": "88f05b85",
   "metadata": {},
   "outputs": [
    {
     "data": {
      "text/plain": [
       "array([[0.79233812, 0.82526674, 0.54593252],\n",
       "       [0.0621533 , 0.12693273, 0.0566786 ],\n",
       "       [0.81672018, 0.92439816, 0.00478597]])"
      ]
     },
     "execution_count": 11,
     "metadata": {},
     "output_type": "execute_result"
    }
   ],
   "source": [
    "#Create a 3*3 Array of uniformely distributed random values between 0 and 1\n",
    "np.random.random((3,3))"
   ]
  },
  {
   "cell_type": "code",
   "execution_count": 12,
   "id": "c16aec74",
   "metadata": {},
   "outputs": [
    {
     "data": {
      "text/plain": [
       "array([[-0.2926721 ,  1.90280944, -0.7650476 ],\n",
       "       [-0.2444836 ,  0.35541083,  0.10737869],\n",
       "       [-2.15843545, -0.21981578,  1.70052333]])"
      ]
     },
     "execution_count": 12,
     "metadata": {},
     "output_type": "execute_result"
    }
   ],
   "source": [
    "#Create a 3*3 Array of normaly distributed random values with mean 0 and std 1\n",
    "np.random.normal(0,1,(3,3))"
   ]
  },
  {
   "cell_type": "code",
   "execution_count": 13,
   "id": "97d8d3a5",
   "metadata": {},
   "outputs": [
    {
     "data": {
      "text/plain": [
       "array([[2, 5, 1],\n",
       "       [5, 4, 9],\n",
       "       [6, 3, 2]])"
      ]
     },
     "execution_count": 13,
     "metadata": {},
     "output_type": "execute_result"
    }
   ],
   "source": [
    "#Create a 3*3 array of random integers in the interval [0,10]\n",
    "np.random.randint(0,10,(3,3))"
   ]
  },
  {
   "cell_type": "code",
   "execution_count": 14,
   "id": "309dee07",
   "metadata": {},
   "outputs": [
    {
     "data": {
      "text/plain": [
       "array([[1., 0., 0.],\n",
       "       [0., 1., 0.],\n",
       "       [0., 0., 1.]])"
      ]
     },
     "execution_count": 14,
     "metadata": {},
     "output_type": "execute_result"
    }
   ],
   "source": [
    "#Create a 3*3 identity matrix\n",
    "np.identity(3)\n",
    "np.eye(3)"
   ]
  },
  {
   "cell_type": "code",
   "execution_count": 15,
   "id": "59b5d90c",
   "metadata": {},
   "outputs": [
    {
     "data": {
      "text/plain": [
       "array([1., 1., 1.])"
      ]
     },
     "execution_count": 15,
     "metadata": {},
     "output_type": "execute_result"
    }
   ],
   "source": [
    "#Create ab uninitialized array of 3 integers\n",
    "#The values will be whatever happens to already exist at that memory location\n",
    "np.empty(3)"
   ]
  },
  {
   "cell_type": "markdown",
   "id": "0ba25f1d",
   "metadata": {},
   "source": [
    "## Silicing Array"
   ]
  },
  {
   "cell_type": "code",
   "execution_count": 17,
   "id": "62a83c85",
   "metadata": {},
   "outputs": [
    {
     "name": "stdout",
     "output_type": "stream",
     "text": [
      "[ 2 35 56 90]\n"
     ]
    }
   ],
   "source": [
    "arr = np.array([1,2,35,56,90,7,99])\n",
    "print(arr[1:5])"
   ]
  },
  {
   "cell_type": "code",
   "execution_count": 18,
   "id": "e6a9f351",
   "metadata": {},
   "outputs": [
    {
     "name": "stdout",
     "output_type": "stream",
     "text": [
      "[90  7 99]\n"
     ]
    }
   ],
   "source": [
    "#Slice elemets from 4 to the end of the array\n",
    "print(arr[4:])"
   ]
  },
  {
   "cell_type": "code",
   "execution_count": 19,
   "id": "50ab432e",
   "metadata": {},
   "outputs": [
    {
     "name": "stdout",
     "output_type": "stream",
     "text": [
      "[ 1  2 35 56]\n"
     ]
    }
   ],
   "source": [
    "#Slice elemets from 4(not included) to the end of the array\n",
    "print(arr[:4])"
   ]
  },
  {
   "cell_type": "markdown",
   "id": "4613df4b",
   "metadata": {},
   "source": [
    "## Negative Slicing"
   ]
  },
  {
   "cell_type": "code",
   "execution_count": 20,
   "id": "5622e065",
   "metadata": {},
   "outputs": [
    {
     "name": "stdout",
     "output_type": "stream",
     "text": [
      "[90  7]\n"
     ]
    }
   ],
   "source": [
    "#Slice from the index 3 from the end to index 1 from the end\n",
    "print(arr[-3:-1])"
   ]
  },
  {
   "cell_type": "markdown",
   "id": "b94d6cc0",
   "metadata": {},
   "source": [
    "## use the step value to determine the step of slicing"
   ]
  },
  {
   "cell_type": "code",
   "execution_count": 24,
   "id": "51eec77e",
   "metadata": {},
   "outputs": [
    {
     "name": "stdout",
     "output_type": "stream",
     "text": [
      "[2 4]\n"
     ]
    }
   ],
   "source": [
    "#Return every other element from indec 1 to index 5\n",
    "arr = np.array([1,2,3,4,5,6,7])\n",
    "print(arr[1:5:2])"
   ]
  },
  {
   "cell_type": "code",
   "execution_count": 25,
   "id": "64e7e9dd",
   "metadata": {},
   "outputs": [
    {
     "name": "stdout",
     "output_type": "stream",
     "text": [
      "[1 3 5 7]\n"
     ]
    }
   ],
   "source": [
    "#Return every other element from the entire array\n",
    "arr = np.array([1,2,3,4,5,6,7])\n",
    "print(arr[::2])"
   ]
  },
  {
   "cell_type": "markdown",
   "id": "b595ae7f",
   "metadata": {},
   "source": [
    "## Slicing 2-D Arrays"
   ]
  },
  {
   "cell_type": "code",
   "execution_count": 27,
   "id": "861cd8a8",
   "metadata": {},
   "outputs": [
    {
     "name": "stdout",
     "output_type": "stream",
     "text": [
      "[7 8 9]\n"
     ]
    }
   ],
   "source": [
    "# From second element, slice elements from index 1 to index 4(not included)\n",
    "arr = np.array([[1,2,3,4,5],[6,7,8,9,10]])\n",
    "print(arr[1,1:4])"
   ]
  },
  {
   "cell_type": "code",
   "execution_count": 30,
   "id": "cfd07a0b",
   "metadata": {},
   "outputs": [
    {
     "name": "stdout",
     "output_type": "stream",
     "text": [
      "[[ 1  2  3  4  5]\n",
      " [ 6  7  8  9 10]]\n",
      "[3 8]\n"
     ]
    }
   ],
   "source": [
    "# From both elements, return index 2\n",
    "arr = np.array([[1,2,3,4,5],[6,7,8,9,10]])\n",
    "print(arr)\n",
    "print(arr[0:2,2])"
   ]
  },
  {
   "cell_type": "code",
   "execution_count": 31,
   "id": "85de0610",
   "metadata": {},
   "outputs": [
    {
     "name": "stdout",
     "output_type": "stream",
     "text": [
      "[[2 3 4]\n",
      " [7 8 9]]\n"
     ]
    }
   ],
   "source": [
    "#From both elements, slice index 1 to index 4(ont include), this will return a 3-D array\n",
    "# From bot elements, return index 2\n",
    "arr = np.array([[1,2,3,4,5],[6,7,8,9,10]])\n",
    "print(arr[0:2,1:4])"
   ]
  },
  {
   "cell_type": "markdown",
   "id": "f2abbb52",
   "metadata": {},
   "source": [
    "## Numpy Array Copy vs View"
   ]
  },
  {
   "cell_type": "code",
   "execution_count": 40,
   "id": "fca33eec",
   "metadata": {},
   "outputs": [
    {
     "name": "stdout",
     "output_type": "stream",
     "text": [
      "[45  2  3  4  5]\n",
      "[1 2 3 4 5]\n"
     ]
    }
   ],
   "source": [
    "#Make a copy, change the original array, and display both arrays\n",
    "arr = np.array([1,2,3,4,5])\n",
    "x = arr.copy()\n",
    "arr[0]=45\n",
    "print(arr)\n",
    "print(x)"
   ]
  },
  {
   "cell_type": "code",
   "execution_count": 38,
   "id": "07f4cfd4",
   "metadata": {},
   "outputs": [
    {
     "name": "stdout",
     "output_type": "stream",
     "text": [
      "[45  2  3  4  5]\n",
      "[45  2  3  4  5]\n"
     ]
    }
   ],
   "source": [
    "#Make a view, change the original array, and display boths arrays. \n",
    "#The view should affected by the change\n",
    "arr = np.array([1,2,3,4,5])\n",
    "x = arr.view()\n",
    "arr[0]=45\n",
    "print(arr)\n",
    "print(x)"
   ]
  },
  {
   "cell_type": "code",
   "execution_count": 42,
   "id": "a41414e1",
   "metadata": {},
   "outputs": [
    {
     "name": "stdout",
     "output_type": "stream",
     "text": [
      "[45  2  3  4  5]\n",
      "[45  2  3  4  5]\n"
     ]
    }
   ],
   "source": [
    "#Make a view, change the original array, and display boths arrays. \n",
    "#The view should affected by the change\n",
    "arr = np.array([1,2,3,4,5])\n",
    "x = arr.view()\n",
    "arr[0]=45\n",
    "print(arr)\n",
    "print(x)"
   ]
  },
  {
   "cell_type": "markdown",
   "id": "1192b87b",
   "metadata": {},
   "source": [
    "## Check if Array Owns its Data"
   ]
  },
  {
   "cell_type": "code",
   "execution_count": 43,
   "id": "2dd29178",
   "metadata": {},
   "outputs": [
    {
     "name": "stdout",
     "output_type": "stream",
     "text": [
      "None\n",
      "[1 2 3 4 5]\n"
     ]
    }
   ],
   "source": [
    "arr = np.array([1,2,3,4,5])\n",
    "x = arr.copy()\n",
    "y = arr.view()\n",
    "print(x.base)\n",
    "print(y.base)"
   ]
  },
  {
   "cell_type": "code",
   "execution_count": 45,
   "id": "45eb6a9f",
   "metadata": {},
   "outputs": [
    {
     "name": "stdout",
     "output_type": "stream",
     "text": [
      "(2, 5)\n"
     ]
    }
   ],
   "source": [
    "#Print the shape of 2-D array\n",
    "arr = np.array([[1,2,3,4,5],[6,7,8,9,10]])\n",
    "print(arr.shape)"
   ]
  },
  {
   "cell_type": "code",
   "execution_count": 89,
   "id": "8cff1489",
   "metadata": {},
   "outputs": [
    {
     "name": "stdout",
     "output_type": "stream",
     "text": [
      "[[[[[1 2 3 4]]]]]\n",
      "Shape of the array is (1, 1, 1, 1, 4)\n"
     ]
    }
   ],
   "source": [
    "# Create an array with 5 dimensions using ndmin using a vector with values 1,2,3,4,5\n",
    "#and verify that last dimension has value 4\n",
    "arr = np.array([1,2,3,4],ndmin=5)\n",
    "print(arr)\n",
    "print(f'Shape of the array is',arr.shape)"
   ]
  },
  {
   "cell_type": "markdown",
   "id": "7e502747",
   "metadata": {},
   "source": [
    "## Reshapping arrays"
   ]
  },
  {
   "cell_type": "code",
   "execution_count": 62,
   "id": "63ade55d",
   "metadata": {},
   "outputs": [
    {
     "name": "stdout",
     "output_type": "stream",
     "text": [
      "[[ 1  2  3]\n",
      " [ 4  5  6]\n",
      " [ 7  8  9]\n",
      " [10 11 12]]\n"
     ]
    }
   ],
   "source": [
    "# Convert the following 1-D array wit 12 elements into a 2-D array.\n",
    "# The outemost dimension will have 4 arrays, each with 3 elements\n",
    "arr = np.array([1,2,3,4,5,6,7,8,9,10,11,12])\n",
    "new_arr = arr.reshape(4,3)\n",
    "print(new_arr)"
   ]
  },
  {
   "cell_type": "code",
   "execution_count": 56,
   "id": "381d4039",
   "metadata": {},
   "outputs": [
    {
     "name": "stdout",
     "output_type": "stream",
     "text": [
      "[[[ 1  2]\n",
      "  [ 3  4]\n",
      "  [ 5  6]]\n",
      "\n",
      " [[ 7  8]\n",
      "  [ 9 10]\n",
      "  [11 12]]]\n"
     ]
    }
   ],
   "source": [
    "#Reshape from 1-D to 3-D\n",
    "arr = np.array([1,2,3,4,5,6,7,8,9,10,11,12])\n",
    "new_arr = arr.reshape(2,3,2)\n",
    "print(new_arr)"
   ]
  },
  {
   "cell_type": "code",
   "execution_count": 63,
   "id": "206b6c2f",
   "metadata": {},
   "outputs": [
    {
     "name": "stdout",
     "output_type": "stream",
     "text": [
      "[[1 2 3 4]\n",
      " [5 6 7 8]]\n"
     ]
    }
   ],
   "source": [
    "arr = np.array([1,2,3,4,5,6,7,8])\n",
    "new_arr = arr.reshape(2,4)\n",
    "print(new_arr) "
   ]
  },
  {
   "cell_type": "markdown",
   "id": "6533a234",
   "metadata": {},
   "source": [
    "## Unknow Dimension"
   ]
  },
  {
   "cell_type": "code",
   "execution_count": 64,
   "id": "a2cf99c4",
   "metadata": {},
   "outputs": [
    {
     "name": "stdout",
     "output_type": "stream",
     "text": [
      "[[[1 2]\n",
      "  [3 4]]\n",
      "\n",
      " [[5 6]\n",
      "  [7 8]]]\n"
     ]
    }
   ],
   "source": [
    "arr = np.array([1,2,3,4,5,6,7,8])\n",
    "new_arr = arr.reshape(2,2,-1)\n",
    "print(new_arr)"
   ]
  },
  {
   "cell_type": "markdown",
   "id": "216cc752",
   "metadata": {},
   "source": [
    "## Flatteming the array"
   ]
  },
  {
   "cell_type": "code",
   "execution_count": 67,
   "id": "24d07706",
   "metadata": {},
   "outputs": [
    {
     "name": "stdout",
     "output_type": "stream",
     "text": [
      "[ 1  2  3  4  5  6  7  8  9 10]\n"
     ]
    }
   ],
   "source": [
    "#Convert multi-dimensional array inton 1D array use reshape(-1) to do this\n",
    "arr = np.array([[1,2,3,4,5],[6,7,8,9,10]])\n",
    "new_arr = arr.reshape(-1)\n",
    "print(new_arr)"
   ]
  },
  {
   "cell_type": "markdown",
   "id": "6449d584",
   "metadata": {},
   "source": [
    "## Numpy Array Joining"
   ]
  },
  {
   "cell_type": "code",
   "execution_count": 71,
   "id": "af12a3ce",
   "metadata": {},
   "outputs": [
    {
     "name": "stdout",
     "output_type": "stream",
     "text": [
      "[ 1  2  3  4  5  6  7  8  9 10]\n"
     ]
    }
   ],
   "source": [
    "arr1 = np.array([1,2,3,4,5])\n",
    "arr2 = np.array([6,7,8,9,10])\n",
    "new_arr = np.concatenate((arr1,arr2))\n",
    "print(new_arr)"
   ]
  },
  {
   "cell_type": "code",
   "execution_count": 72,
   "id": "0b42f80d",
   "metadata": {},
   "outputs": [
    {
     "name": "stdout",
     "output_type": "stream",
     "text": [
      "[[ 1  2 57  6]\n",
      " [ 3  4  7  8]]\n"
     ]
    }
   ],
   "source": [
    "#Join two 2-D arrays along rows(axis=1)\n",
    "arr1 = np.array([[1,2],[3,4]])\n",
    "arr2 = np.array([[57,6],[7,8]])\n",
    "new_arr = np.concatenate((arr1,arr2),axis=1)\n",
    "print(new_arr)"
   ]
  },
  {
   "cell_type": "markdown",
   "id": "b0dc91b0",
   "metadata": {},
   "source": [
    "## Joinning Arrays Using Stack Functions"
   ]
  },
  {
   "cell_type": "code",
   "execution_count": 73,
   "id": "82057a8d",
   "metadata": {},
   "outputs": [
    {
     "name": "stdout",
     "output_type": "stream",
     "text": [
      "[[ 1  6]\n",
      " [ 2  7]\n",
      " [ 3  8]\n",
      " [ 4  9]\n",
      " [ 5 10]]\n"
     ]
    }
   ],
   "source": [
    "arr1 = np.array([1,2,3,4,5])\n",
    "arr2 = np.array([6,7,8,9,10])\n",
    "new_arr = np.stack((arr1,arr2),axis=1)\n",
    "print(new_arr)"
   ]
  },
  {
   "cell_type": "code",
   "execution_count": 74,
   "id": "8e2deb34",
   "metadata": {},
   "outputs": [
    {
     "name": "stdout",
     "output_type": "stream",
     "text": [
      "[ 1  2  3  4  5  6  7  8  9 10]\n"
     ]
    }
   ],
   "source": [
    "#Stacking along Rows\n",
    "arr1 = np.array([1,2,3,4,5])\n",
    "arr2 = np.array([6,7,8,9,10])\n",
    "new_arr = np.hstack((arr1,arr2))\n",
    "print(new_arr)"
   ]
  },
  {
   "cell_type": "code",
   "execution_count": 75,
   "id": "c8836a14",
   "metadata": {},
   "outputs": [
    {
     "name": "stdout",
     "output_type": "stream",
     "text": [
      "[[ 1  2  3  4  5]\n",
      " [ 6  7  8  9 10]]\n"
     ]
    }
   ],
   "source": [
    "#Stacking along Columns\n",
    "arr1 = np.array([1,2,3,4,5])\n",
    "arr2 = np.array([6,7,8,9,10])\n",
    "new_arr = np.vstack((arr1,arr2))\n",
    "print(new_arr)"
   ]
  },
  {
   "cell_type": "code",
   "execution_count": 76,
   "id": "20139580",
   "metadata": {},
   "outputs": [
    {
     "name": "stdout",
     "output_type": "stream",
     "text": [
      "[[[ 1  6]\n",
      "  [ 2  7]\n",
      "  [ 3  8]\n",
      "  [ 4  9]\n",
      "  [ 5 10]]]\n"
     ]
    }
   ],
   "source": [
    "##Stacking along Height(depth)\n",
    "arr1 = np.array([1,2,3,4,5])\n",
    "arr2 = np.array([6,7,8,9,10])\n",
    "new_arr = np.dstack((arr1,arr2))\n",
    "print(new_arr)"
   ]
  },
  {
   "cell_type": "markdown",
   "id": "0f307b7e",
   "metadata": {},
   "source": [
    "## Numpy Searchin Arrays"
   ]
  },
  {
   "cell_type": "code",
   "execution_count": 77,
   "id": "41c8fc14",
   "metadata": {},
   "outputs": [
    {
     "name": "stdout",
     "output_type": "stream",
     "text": [
      "(array([2, 5], dtype=int64),)\n"
     ]
    }
   ],
   "source": [
    "arr = np.array([1,3,4,6,7,4])\n",
    "print(np.where(arr == 4))"
   ]
  },
  {
   "cell_type": "code",
   "execution_count": 78,
   "id": "cb9437c5",
   "metadata": {},
   "outputs": [
    {
     "name": "stdout",
     "output_type": "stream",
     "text": [
      "(array([1, 3, 5, 7, 9], dtype=int64),)\n"
     ]
    }
   ],
   "source": [
    "arr = np.array([ 1 , 2,  3,  4,  5,  6,  7,  8,  9, 10])\n",
    "print(np.where(arr%2==0))"
   ]
  },
  {
   "cell_type": "markdown",
   "id": "2d14f693",
   "metadata": {},
   "source": [
    "## Search Sorted"
   ]
  },
  {
   "cell_type": "code",
   "execution_count": 79,
   "id": "ba4c083a",
   "metadata": {},
   "outputs": [
    {
     "name": "stdout",
     "output_type": "stream",
     "text": [
      "6\n"
     ]
    }
   ],
   "source": [
    "arr = np.array([ 1 , 2,  3,  4,  5,  6,  7,  8,  9, 10])\n",
    "print(np.searchsorted(arr,7))"
   ]
  },
  {
   "cell_type": "code",
   "execution_count": 81,
   "id": "72871d02",
   "metadata": {},
   "outputs": [
    {
     "name": "stdout",
     "output_type": "stream",
     "text": [
      "7\n"
     ]
    }
   ],
   "source": [
    "#Search from right side\n",
    "arr = np.array([ 1 , 2,  3,  4,  5,  6,  7,  8,  9, 10])\n",
    "print(np.searchsorted(arr,7,side='right'))"
   ]
  },
  {
   "cell_type": "code",
   "execution_count": 82,
   "id": "b45dffba",
   "metadata": {},
   "outputs": [
    {
     "name": "stdout",
     "output_type": "stream",
     "text": [
      "[1 2 8]\n"
     ]
    }
   ],
   "source": [
    "#Search multiple value\n",
    "arr = np.array([ 1 , 2,  3,  4,  5,  6,  7,  8,  9, 10])\n",
    "print(np.searchsorted(arr,[2,3,9]))"
   ]
  },
  {
   "cell_type": "markdown",
   "id": "19a99f02",
   "metadata": {},
   "source": [
    "## Sort Arrays"
   ]
  },
  {
   "cell_type": "code",
   "execution_count": 84,
   "id": "2db3b734",
   "metadata": {},
   "outputs": [
    {
     "name": "stdout",
     "output_type": "stream",
     "text": [
      "[ 0  1  2  3  4  5  6  7  8  9 10]\n"
     ]
    }
   ],
   "source": [
    "arr = np.array([ 1 , 2,  3,  4,  5,  6,  7,  8,  9, 10,0])\n",
    "print(np.sort(arr))"
   ]
  },
  {
   "cell_type": "markdown",
   "id": "620eca03",
   "metadata": {},
   "source": [
    "### We can sort a string array even 2-D array"
   ]
  },
  {
   "cell_type": "markdown",
   "id": "db3f18cc",
   "metadata": {},
   "source": [
    "## Numpy Filter Array"
   ]
  },
  {
   "cell_type": "code",
   "execution_count": 85,
   "id": "08208296",
   "metadata": {},
   "outputs": [
    {
     "name": "stdout",
     "output_type": "stream",
     "text": [
      "[False, True, False, True, False, True, False, True, False, True]\n",
      "[ 2  4  6  8 10]\n"
     ]
    }
   ],
   "source": [
    "arr = np.array([ 1 , 2,  3,  4,  5,  6,  7,  8,  9, 10])\n",
    "filter_arr = []\n",
    "for elt in arr:\n",
    "    if elt%2==0:\n",
    "        filter_arr.append(True)\n",
    "    else:\n",
    "        filter_arr.append(False)\n",
    "new_arr = arr[filter_arr]\n",
    "print(filter_arr)\n",
    "print(new_arr)"
   ]
  },
  {
   "cell_type": "code",
   "execution_count": 87,
   "id": "27525312",
   "metadata": {},
   "outputs": [
    {
     "name": "stdout",
     "output_type": "stream",
     "text": [
      "[False False False  True False False False False False False]\n",
      "[43]\n"
     ]
    }
   ],
   "source": [
    "#Create filtering directly from array\n",
    "arr = np.array([ 1 , 2,  3,  43,  5,  6,  7,  8,  9, 10])\n",
    "filter_arr = arr>42\n",
    "new_arr = arr[filter_arr]\n",
    "print(filter_arr)\n",
    "print(new_arr)"
   ]
  },
  {
   "cell_type": "code",
   "execution_count": null,
   "id": "7b104874",
   "metadata": {},
   "outputs": [],
   "source": []
  }
 ],
 "metadata": {
  "kernelspec": {
   "display_name": "Python 3 (ipykernel)",
   "language": "python",
   "name": "python3"
  },
  "language_info": {
   "codemirror_mode": {
    "name": "ipython",
    "version": 3
   },
   "file_extension": ".py",
   "mimetype": "text/x-python",
   "name": "python",
   "nbconvert_exporter": "python",
   "pygments_lexer": "ipython3",
   "version": "3.11.5"
  }
 },
 "nbformat": 4,
 "nbformat_minor": 5
}
